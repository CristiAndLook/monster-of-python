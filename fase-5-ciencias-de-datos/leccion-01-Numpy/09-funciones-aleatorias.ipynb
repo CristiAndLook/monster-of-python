{
 "cells": [
  {
   "cell_type": "markdown",
   "id": "cf5d45f9",
   "metadata": {},
   "source": [
    "# Funciones aleatorias\n",
    "\n",
    "Hablando de funciones no podemos olvidar las funciones aleatorias encontradas en el módulo `random`. [En la documentación oficial](https://numpy.org/doc/stable/reference/random/index.html) encontraréis el listado completo con ejemplos de uso.\n",
    "\n",
    "Tenemos funciones para generar arrays con `datos aleatorios` y `permutaciones`. También hay muchas enfocadas a generar muestras de distribuciones de probabilidad pensadas para visualizar estadística.\n",
    "\n",
    "Vamos a practicar algunas de las dos primeras.\n",
    "\n",
    "## Datos aleatorios"
   ]
  },
  {
   "cell_type": "code",
   "execution_count": 1,
   "id": "d6d5857a",
   "metadata": {},
   "outputs": [],
   "source": [
    "import numpy as np"
   ]
  },
  {
   "cell_type": "code",
   "execution_count": 2,
   "id": "7959ffbb",
   "metadata": {},
   "outputs": [
    {
     "data": {
      "text/plain": [
       "0.7680101619277756"
      ]
     },
     "execution_count": 2,
     "metadata": {},
     "output_type": "execute_result"
    }
   ],
   "source": [
    "# número decimal entre 0 y 1\n",
    "np.random.rand()"
   ]
  },
  {
   "cell_type": "code",
   "execution_count": 3,
   "id": "df6d6818",
   "metadata": {},
   "outputs": [
    {
     "data": {
      "text/plain": [
       "array([0.72084712, 0.80825326, 0.82474567, 0.97230455])"
      ]
     },
     "execution_count": 3,
     "metadata": {},
     "output_type": "execute_result"
    }
   ],
   "source": [
    "# array 1D de decimales entre 0 y 1\n",
    "np.random.rand(4)"
   ]
  },
  {
   "cell_type": "code",
   "execution_count": 4,
   "id": "2963980d",
   "metadata": {},
   "outputs": [
    {
     "data": {
      "text/plain": [
       "array([[0.81744578, 0.15197055],\n",
       "       [0.50372367, 0.6965973 ],\n",
       "       [0.11293527, 0.43135388],\n",
       "       [0.02770614, 0.41214557]])"
      ]
     },
     "execution_count": 4,
     "metadata": {},
     "output_type": "execute_result"
    }
   ],
   "source": [
    "# array 2D de decimales entre 0 y 1\n",
    "np.random.rand(4,2)"
   ]
  },
  {
   "cell_type": "code",
   "execution_count": 5,
   "id": "0b38a3ae",
   "metadata": {},
   "outputs": [
    {
     "data": {
      "text/plain": [
       "array([[[3.74760238, 7.62401971],\n",
       "        [3.63392123, 8.61055791]],\n",
       "\n",
       "       [[2.6745891 , 6.38481823],\n",
       "        [9.40600646, 6.88960354]]])"
      ]
     },
     "execution_count": 5,
     "metadata": {},
     "output_type": "execute_result"
    }
   ],
   "source": [
    "# array 3D de decimales entre 0 y N\n",
    "np.random.uniform(10, size=[2,2,2])"
   ]
  },
  {
   "cell_type": "code",
   "execution_count": 6,
   "id": "095c18e5",
   "metadata": {},
   "outputs": [
    {
     "data": {
      "text/plain": [
       "array([[[[-7.50538702, -0.80481866],\n",
       "         [-7.67411433,  5.50597444]],\n",
       "\n",
       "        [[-5.63265944, -3.01338459],\n",
       "         [-2.50118336,  7.0095723 ]]],\n",
       "\n",
       "\n",
       "       [[[-1.43931522, -9.81098583],\n",
       "         [ 4.91410386,  4.89063587]],\n",
       "\n",
       "        [[-0.61658133, -3.0283638 ],\n",
       "         [-6.95997807, -2.72690653]]]])"
      ]
     },
     "execution_count": 6,
     "metadata": {},
     "output_type": "execute_result"
    }
   ],
   "source": [
    "# array 4D de decimales entre -N y M\n",
    "np.random.uniform(-10, 10, size=[2,2,2,2])"
   ]
  },
  {
   "cell_type": "code",
   "execution_count": 7,
   "id": "9039ccb1",
   "metadata": {},
   "outputs": [
    {
     "data": {
      "text/plain": [
       "9"
      ]
     },
     "execution_count": 7,
     "metadata": {},
     "output_type": "execute_result"
    }
   ],
   "source": [
    "# número entero entre 0 y N\n",
    "np.random.randint(10)"
   ]
  },
  {
   "cell_type": "code",
   "execution_count": 8,
   "id": "ecfbc054",
   "metadata": {},
   "outputs": [
    {
     "data": {
      "text/plain": [
       "array([[2, 7],\n",
       "       [2, 9],\n",
       "       [9, 2]])"
      ]
     },
     "execution_count": 8,
     "metadata": {},
     "output_type": "execute_result"
    }
   ],
   "source": [
    "# array de enteros entre 0 y N\n",
    "np.random.randint(10, size=[3,2])"
   ]
  },
  {
   "cell_type": "code",
   "execution_count": 9,
   "id": "7fb65934",
   "metadata": {},
   "outputs": [
    {
     "data": {
      "text/plain": [
       "array([[ 9, -1],\n",
       "       [-2,  9],\n",
       "       [ 6,  0]])"
      ]
     },
     "execution_count": 9,
     "metadata": {},
     "output_type": "execute_result"
    }
   ],
   "source": [
    "# array de enteros entre -N y M\n",
    "np.random.randint(-10, 10, size=[3,2])"
   ]
  },
  {
   "cell_type": "code",
   "execution_count": 10,
   "id": "e860ee65",
   "metadata": {},
   "outputs": [
    {
     "data": {
      "text/plain": [
       "array([ 0.37339188,  1.45643039,  1.06202495, -1.08470048,  0.78925181,\n",
       "        1.5216387 ,  0.50645487,  1.50459631, -0.02915903,  1.76087365,\n",
       "        0.32035265,  0.00646156, -2.0026798 , -0.53642851, -0.22037108,\n",
       "       -0.24315516,  1.41508814,  0.43611953, -2.75806806,  1.61517135])"
      ]
     },
     "execution_count": 10,
     "metadata": {},
     "output_type": "execute_result"
    }
   ],
   "source": [
    "# array uniforme con curva gaussiana\n",
    "np.random.normal(size=20)"
   ]
  },
  {
   "cell_type": "markdown",
   "id": "538d5c41",
   "metadata": {},
   "source": [
    "## Permutaciones"
   ]
  },
  {
   "cell_type": "code",
   "execution_count": 11,
   "id": "487b5ff0",
   "metadata": {},
   "outputs": [
    {
     "data": {
      "text/plain": [
       "array([0, 1, 2, 3, 4, 5, 6, 7, 8, 9])"
      ]
     },
     "execution_count": 11,
     "metadata": {},
     "output_type": "execute_result"
    }
   ],
   "source": [
    "arr = np.arange(10)\n",
    "\n",
    "arr"
   ]
  },
  {
   "cell_type": "code",
   "execution_count": 12,
   "id": "428c472c",
   "metadata": {},
   "outputs": [
    {
     "data": {
      "text/plain": [
       "array([9, 3, 1, 4, 7, 0, 2, 5, 8, 6])"
      ]
     },
     "execution_count": 12,
     "metadata": {},
     "output_type": "execute_result"
    }
   ],
   "source": [
    "# desordenar un array\n",
    "np.random.shuffle(arr)\n",
    "\n",
    "arr"
   ]
  },
  {
   "cell_type": "code",
   "execution_count": 13,
   "id": "6cb45b00",
   "metadata": {},
   "outputs": [
    {
     "data": {
      "text/plain": [
       "array([12,  4, 13,  7,  1,  8,  0,  9,  5, 14,  2, 11, 10,  6,  3])"
      ]
     },
     "execution_count": 13,
     "metadata": {},
     "output_type": "execute_result"
    }
   ],
   "source": [
    "# generar secuencia permutada a partir de un número\n",
    "np.random.permutation(15)"
   ]
  }
 ],
 "metadata": {
  "kernelspec": {
   "display_name": "Python 3 (ipykernel)",
   "language": "python",
   "name": "python3"
  },
  "language_info": {
   "codemirror_mode": {
    "name": "ipython",
    "version": 3
   },
   "file_extension": ".py",
   "mimetype": "text/x-python",
   "name": "python",
   "nbconvert_exporter": "python",
   "pygments_lexer": "ipython3",
   "version": "3.10.12"
  }
 },
 "nbformat": 4,
 "nbformat_minor": 5
}
